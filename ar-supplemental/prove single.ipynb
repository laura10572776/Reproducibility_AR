{
 "cells": [
  {
   "cell_type": "code",
   "execution_count": 1,
   "id": "initial_id",
   "metadata": {
    "collapsed": true,
    "ExecuteTime": {
     "end_time": "2024-05-29T16:41:17.680380700Z",
     "start_time": "2024-05-29T07:23:00.502132700Z"
    }
   },
   "outputs": [
    {
     "name": "stdout",
     "output_type": "stream",
     "text": [
      "alpha is equal to 0.4 with nr equal to 10\n"
     ]
    },
    {
     "name": "stderr",
     "output_type": "stream",
     "text": [
      "100%|██████████| 1000/1000 [21:31<00:00,  1.29s/it]\n"
     ]
    },
    {
     "name": "stdout",
     "output_type": "stream",
     "text": [
      "k_values[0]: 0.05\n",
      "alpha is equal to 0.5 with nr equal to 10\n"
     ]
    },
    {
     "name": "stderr",
     "output_type": "stream",
     "text": [
      "100%|██████████| 1000/1000 [22:51<00:00,  1.37s/it]\n"
     ]
    },
    {
     "name": "stdout",
     "output_type": "stream",
     "text": [
      "k_values[0]: 0.05\n",
      "alpha is equal to 0.6 with nr equal to 10\n"
     ]
    },
    {
     "name": "stderr",
     "output_type": "stream",
     "text": [
      "100%|██████████| 1000/1000 [25:28<00:00,  1.53s/it]\n"
     ]
    },
    {
     "name": "stdout",
     "output_type": "stream",
     "text": [
      "k_values[0]: 0.05\n",
      "alpha is equal to 0.4 with nr equal to 20\n"
     ]
    },
    {
     "name": "stderr",
     "output_type": "stream",
     "text": [
      "100%|██████████| 1000/1000 [23:34<00:00,  1.41s/it]\n"
     ]
    },
    {
     "name": "stdout",
     "output_type": "stream",
     "text": [
      "k_values[0]: 0.05\n",
      "alpha is equal to 0.5 with nr equal to 20\n"
     ]
    },
    {
     "name": "stderr",
     "output_type": "stream",
     "text": [
      "100%|██████████| 1000/1000 [23:09<00:00,  1.39s/it]\n"
     ]
    },
    {
     "name": "stdout",
     "output_type": "stream",
     "text": [
      "k_values[0]: 0.05\n",
      "alpha is equal to 0.6 with nr equal to 20\n"
     ]
    },
    {
     "name": "stderr",
     "output_type": "stream",
     "text": [
      "100%|██████████| 1000/1000 [28:29<00:00,  1.71s/it]\n"
     ]
    },
    {
     "name": "stdout",
     "output_type": "stream",
     "text": [
      "k_values[0]: 0.05\n",
      "alpha is equal to 0.4 with nr equal to 50\n"
     ]
    },
    {
     "name": "stderr",
     "output_type": "stream",
     "text": [
      "100%|██████████| 1000/1000 [34:20<00:00,  2.06s/it]\n"
     ]
    },
    {
     "name": "stdout",
     "output_type": "stream",
     "text": [
      "k_values[0]: 0.05\n",
      "alpha is equal to 0.5 with nr equal to 50\n"
     ]
    },
    {
     "name": "stderr",
     "output_type": "stream",
     "text": [
      "100%|██████████| 1000/1000 [24:11<00:00,  1.45s/it]\n"
     ]
    },
    {
     "name": "stdout",
     "output_type": "stream",
     "text": [
      "k_values[0]: 0.05\n",
      "alpha is equal to 0.6 with nr equal to 50\n"
     ]
    },
    {
     "name": "stderr",
     "output_type": "stream",
     "text": [
      "100%|██████████| 1000/1000 [24:23<00:00,  1.46s/it]\n"
     ]
    },
    {
     "name": "stdout",
     "output_type": "stream",
     "text": [
      "k_values[0]: 0.05\n",
      "alpha is equal to 0.4 with nr equal to 100\n"
     ]
    },
    {
     "name": "stderr",
     "output_type": "stream",
     "text": [
      "100%|██████████| 1000/1000 [25:25<00:00,  1.53s/it]\n"
     ]
    },
    {
     "name": "stdout",
     "output_type": "stream",
     "text": [
      "k_values[0]: 0.05\n",
      "alpha is equal to 0.5 with nr equal to 100\n"
     ]
    },
    {
     "name": "stderr",
     "output_type": "stream",
     "text": [
      "100%|██████████| 1000/1000 [23:30<00:00,  1.41s/it]\n"
     ]
    },
    {
     "name": "stdout",
     "output_type": "stream",
     "text": [
      "k_values[0]: 0.05\n",
      "alpha is equal to 0.6 with nr equal to 100\n"
     ]
    },
    {
     "name": "stderr",
     "output_type": "stream",
     "text": [
      "100%|██████████| 1000/1000 [22:11<00:00,  1.33s/it]\n"
     ]
    },
    {
     "name": "stdout",
     "output_type": "stream",
     "text": [
      "k_values[0]: 0.05\n",
      "alpha is equal to 0.4 with nr equal to 200\n"
     ]
    },
    {
     "name": "stderr",
     "output_type": "stream",
     "text": [
      "100%|██████████| 1000/1000 [25:01<00:00,  1.50s/it]\n"
     ]
    },
    {
     "name": "stdout",
     "output_type": "stream",
     "text": [
      "k_values[0]: 0.05\n",
      "alpha is equal to 0.5 with nr equal to 200\n"
     ]
    },
    {
     "name": "stderr",
     "output_type": "stream",
     "text": [
      "100%|██████████| 1000/1000 [28:21<00:00,  1.70s/it]\n"
     ]
    },
    {
     "name": "stdout",
     "output_type": "stream",
     "text": [
      "k_values[0]: 0.05\n",
      "alpha is equal to 0.6 with nr equal to 200\n"
     ]
    },
    {
     "name": "stderr",
     "output_type": "stream",
     "text": [
      "100%|██████████| 1000/1000 [29:07<00:00,  1.75s/it]\n"
     ]
    },
    {
     "name": "stdout",
     "output_type": "stream",
     "text": [
      "k_values[0]: 0.05\n",
      "alpha is equal to 0.4 with nr equal to 500\n"
     ]
    },
    {
     "name": "stderr",
     "output_type": "stream",
     "text": [
      "100%|██████████| 1000/1000 [26:47<00:00,  1.61s/it]\n"
     ]
    },
    {
     "name": "stdout",
     "output_type": "stream",
     "text": [
      "k_values[0]: 0.05\n",
      "alpha is equal to 0.5 with nr equal to 500\n"
     ]
    },
    {
     "name": "stderr",
     "output_type": "stream",
     "text": [
      "100%|██████████| 1000/1000 [25:54<00:00,  1.55s/it]\n"
     ]
    },
    {
     "name": "stdout",
     "output_type": "stream",
     "text": [
      "k_values[0]: 0.05\n",
      "alpha is equal to 0.6 with nr equal to 500\n"
     ]
    },
    {
     "name": "stderr",
     "output_type": "stream",
     "text": [
      "100%|██████████| 1000/1000 [30:31<00:00,  1.83s/it]\n"
     ]
    },
    {
     "name": "stdout",
     "output_type": "stream",
     "text": [
      "k_values[0]: 0.05\n",
      "alpha is equal to 0.4 with nr equal to 1000\n"
     ]
    },
    {
     "name": "stderr",
     "output_type": "stream",
     "text": [
      "100%|██████████| 1000/1000 [26:48<00:00,  1.61s/it]\n"
     ]
    },
    {
     "name": "stdout",
     "output_type": "stream",
     "text": [
      "k_values[0]: 0.05\n",
      "alpha is equal to 0.5 with nr equal to 1000\n"
     ]
    },
    {
     "name": "stderr",
     "output_type": "stream",
     "text": [
      "100%|██████████| 1000/1000 [32:00<00:00,  1.92s/it]\n"
     ]
    },
    {
     "name": "stdout",
     "output_type": "stream",
     "text": [
      "k_values[0]: 0.05\n",
      "alpha is equal to 0.6 with nr equal to 1000\n"
     ]
    },
    {
     "name": "stderr",
     "output_type": "stream",
     "text": [
      "100%|██████████| 1000/1000 [34:29<00:00,  2.07s/it]\n"
     ]
    },
    {
     "name": "stdout",
     "output_type": "stream",
     "text": [
      "k_values[0]: 0.05\n"
     ]
    },
    {
     "data": {
      "text/plain": "<Figure size 569.25x500 with 1 Axes>",
      "image/png": "[encoded data removed]"
     },
     "metadata": {},
     "output_type": "display_data"
    }
   ],
   "source": [
    "import numpy as np\n",
    "import pandas as pd\n",
    "import matplotlib.pyplot as plt\n",
    "import seaborn as sns\n",
    "from tqdm.notebook import tqdm\n",
    "import seaborn as sns\n",
    "from stoch_mcts.game.game import Trap\n",
    "from stoch_mcts.mcts.mcts import MCTS\n",
    "from stoch_mcts.mcts.selector import ProgressiveWidening, AbstractionRefining, sampler\n",
    "from stoch_mcts.mcts.backpropagator import *\n",
    "from stoch_mcts.trainer.trainer import run\n",
    "from stoch_mcts.agent.agent import Agent\n",
    "from stoch_mcts.mcts.selector import *\n",
    "from stoch_mcts.mcts.evaluator import *\n",
    "\n",
    "\n",
    "# Parameters\n",
    "n_trials = 1000\n",
    "num_rollouts = [10, 20, 50, 100, 200, 500, 1000]\n",
    "k_values = [0.05]  # , 0.05, 1, 2]\n",
    "pw_exponents = [0.4, 0.5, 0.6]\n",
    "ar_exponent = 0.1\n",
    "ar_factor = 0.1\n",
    "# Initialize the DataFrame\n",
    "df = {'method': [], 'expected_return': [], 'num_rollouts': [], 'k': [], 'exp': [], 'time_minutes': []}\n",
    "\n",
    "game = Trap()\n",
    "for nr in num_rollouts:\n",
    "    for k in k_values:\n",
    "        for alpha in pw_exponents:\n",
    "            mcts = MCTS(\n",
    "                selector=Selector(action_selector=UCT(100), state_selector=ProgressiveWidening(k=k, alpha=alpha)),\n",
    "                evaluator=RandomRollouts(1, 1000),\n",
    "                backpropagator=TreeBackpropagator(discount=1)\n",
    "            )\n",
    "            # Progressive Widening simulation\n",
    "            print(f\"alpha is equal to {alpha} with nr equal to {nr}\")\n",
    "            # Measure the start time\n",
    "            start_time = time.time()\n",
    "\n",
    "            # Progressive Widening simulation\n",
    "            result = run(game, Agent(mcts), n_trials, nr)\n",
    "\n",
    "            # Measure the end time\n",
    "            end_time = time.time()\n",
    "\n",
    "            # Calculate the time taken in minutes\n",
    "            time_taken = (end_time - start_time) / 60\n",
    "\n",
    "            # Replicate the rows according to the number of elements in result\n",
    "            num_results = len(result)\n",
    "            df['method'].extend([f'PW{alpha}'] * num_results)\n",
    "            df['exp'].extend([alpha] * num_results)\n",
    "            df['k'].extend([k] * num_results)\n",
    "            df['num_rollouts'].extend([nr] * num_results)\n",
    "            df['expected_return'].extend(result)\n",
    "            df['time_minutes'].extend([time_taken] * num_results)\n",
    "\n",
    "            df_ = pd.DataFrame(df)\n",
    "            try:\n",
    "                df_['expected_return'] = df_['expected_return'].astype(float)\n",
    "            except Exception as e:\n",
    "                print(\"Errore nella conversione di 'expected_return':\", e)\n",
    "\n",
    "            # Verifica il contenuto di 'k_values'\n",
    "            print(\"k_values[0]:\", k_values[0])\n",
    "\n",
    "            # Carica un DataFrame da un file CSV e concatenalo con 'df_'\n",
    "            try:\n",
    "                df_csv = pd.read_csv(f\"df/df_{k_values[0]}_n_prova.csv\")\n",
    "                df_csv.drop_duplicates(inplace=True)\n",
    "                df_ = pd.concat([df_, df_csv], ignore_index=True)\n",
    "            except Exception as e:\n",
    "                print(\"Errore nella lettura o concatenazione del CSV:\", e)\n",
    "\n",
    "            # Salva il DataFrame risultante\n",
    "            try:\n",
    "                df_.to_csv(f\"df/df_{k_values[0]}_n_prova.csv\", index=False)\n",
    "            except Exception as e:\n",
    "                print(\"Errore nel salvataggio del CSV:\", e)\n",
    "# Convert to DataFrame and visualize the results\n",
    "df_ = pd.DataFrame(df)\n",
    "df_['expected_return'] = df_['expected_return'].astype(float)\n",
    "df_ = pd.concat([df_, pd.read_csv(f\"df/df_{k_values[0]}_n_prova.csv\")])\n",
    "df_.to_csv(f\"df/df_{k_values[0]}.csv\", index=False)\n",
    "sns.relplot(data=df_, x='num_rollouts', y='expected_return', hue='exp', kind='line', col='k',\n",
    "            facet_kws={'sharey': True, 'sharex': True})\n",
    "# Save the plot\n",
    "plt.savefig('mrp_PROVA.png')\n",
    "plt.show()"
   ]
  },
  {
   "cell_type": "code",
   "execution_count": 1,
   "outputs": [],
   "source": [],
   "metadata": {
    "collapsed": false,
    "ExecuteTime": {
     "end_time": "2024-05-29T16:41:17.683406300Z",
     "start_time": "2024-05-29T16:41:17.683406300Z"
    }
   },
   "id": "5c099538865be346"
  }
 ],
 "metadata": {
  "kernelspec": {
   "display_name": "Python 3",
   "language": "python",
   "name": "python3"
  },
  "language_info": {
   "codemirror_mode": {
    "name": "ipython",
    "version": 2
   },
   "file_extension": ".py",
   "mimetype": "text/x-python",
   "name": "python",
   "nbconvert_exporter": "python",
   "pygments_lexer": "ipython2",
   "version": "2.7.6"
  }
 },
 "nbformat": 4,
 "nbformat_minor": 5
}
